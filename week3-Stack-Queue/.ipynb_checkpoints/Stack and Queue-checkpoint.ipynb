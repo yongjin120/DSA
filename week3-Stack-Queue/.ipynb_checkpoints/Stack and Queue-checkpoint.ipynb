{
 "cells": [
  {
   "cell_type": "markdown",
   "metadata": {},
   "source": [
    "# Structure of Stack\n",
    "> ## • Stacks are linear like linked lists\n",
    "* A variation of a singly linked list\n",
    "\n",
    "> ## • Difference\n",
    " * Voluntarily giving up\n",
    "- Access to the middle in the linked list\n",
    "- Only accesses to the first instance in the list\n",
    "\n",
    "> ## •\tAn item is inserted or removed from the stack from one end called the “top” of the stack.\n",
    "> ## •\tThis mechanism is called Last-In-First-Out (LIFO)."
   ]
  },
  {
   "cell_type": "markdown",
   "metadata": {},
   "source": [
    "# Operation of Stack\n",
    "\n",
    "> ### Stack operation\n",
    "* Push\n",
    "    - Insert an instance at the first in the linked list\n",
    "    - Put an instance at the top in the stack\n",
    "* Pop\n",
    "    - Remove and return an instance at the first in the linked list\n",
    "    - Remove and return an instance at the top in the stack"
   ]
  },
  {
   "cell_type": "code",
   "execution_count": 1,
   "metadata": {},
   "outputs": [],
   "source": [
    "from SinglyLinkedList import SinglyLinkedList"
   ]
  },
  {
   "cell_type": "code",
   "execution_count": 2,
   "metadata": {},
   "outputs": [],
   "source": [
    "class Stack(object):\n",
    "    lstInstance = SinglyLinkedList()\n",
    "    \n",
    "    def pop(self):\n",
    "        return self.lstInstance.removeAt(0)\n",
    "    \n",
    "    def push(self, value):\n",
    "        return self.lstInstance.insertAt(value, 0)"
   ]
  },
  {
   "cell_type": "code",
   "execution_count": 3,
   "metadata": {},
   "outputs": [],
   "source": [
    "stack = Stack()"
   ]
  },
  {
   "cell_type": "code",
   "execution_count": 4,
   "metadata": {},
   "outputs": [
    {
     "name": "stdout",
     "output_type": "stream",
     "text": [
      "insert :  a\n",
      "insert :  b\n",
      "insert :  c\n"
     ]
    }
   ],
   "source": [
    "stack.push(\"a\")\n",
    "stack.push(\"b\")\n",
    "stack.push(\"c\")\n"
   ]
  },
  {
   "cell_type": "code",
   "execution_count": 5,
   "metadata": {},
   "outputs": [
    {
     "name": "stdout",
     "output_type": "stream",
     "text": [
      "c\n",
      "b\n",
      "a\n"
     ]
    }
   ],
   "source": [
    "for itr in range(stack.lstInstance.getSize()):\n",
    "    print(stack.pop())"
   ]
  },
  {
   "cell_type": "markdown",
   "metadata": {},
   "source": [
    " "
   ]
  },
  {
   "cell_type": "markdown",
   "metadata": {},
   "source": [
    "# Structure of Queue\n",
    "\n",
    "> ### Queues are linear like linked lists\n",
    " * A variation of a singly linked\n",
    " \n",
    "> ### Difference\n",
    " * Voluntarily giving up\n",
    "  - Access to the middle in the linked list == Same to the stacks\n",
    "  - Only accesses to the first and the last instances in the list\n",
    " * The first instance in the list\n",
    "  - The front instance in the queue\n",
    " * The last instance in the list\n",
    "  - The rear instance in the queue\n",
    "        \n",
    ">#### An item is inserted at the last\n",
    ">#### An item is removed at the front\n",
    ">#### This mechanism is called Fast-In-First-Out (FIFO)"
   ]
  },
  {
   "cell_type": "markdown",
   "metadata": {},
   "source": [
    "# Operation of Queue\n",
    "\n",
    "> ### Queue operation\n",
    " * Enqueue\n",
    "  - Insert an instance at the last in the linked list\n",
    "  - Put an instance at the rear in the queue\n",
    " * Dequeue\n",
    "  - Remove and return an instance at the first in the linked list\n",
    "  - Remove and return an instance at the front in the queue"
   ]
  },
  {
   "cell_type": "code",
   "execution_count": 12,
   "metadata": {},
   "outputs": [],
   "source": [
    "from SinglyLinkedList import SinglyLinkedList\n",
    "\n",
    "class Queue(object):\n",
    "    lstInstance = SinglyLinkedList()\n",
    "    \n",
    "    def dequeue(self):\n",
    "        return self.lstInstance.removeAt(0)\n",
    "    def enqueue(self, value):\n",
    "        self.lstInstance.insertAt(value, self.lstInstance.getSize())\n",
    "        "
   ]
  },
  {
   "cell_type": "code",
   "execution_count": 13,
   "metadata": {},
   "outputs": [
    {
     "name": "stdout",
     "output_type": "stream",
     "text": [
      "insert :  a\n",
      "insert :  b\n",
      "insert :  c\n"
     ]
    }
   ],
   "source": [
    "queue = Queue()\n",
    "\n",
    "queue.enqueue(\"a\")\n",
    "queue.enqueue(\"b\")\n",
    "queue.enqueue(\"c\")"
   ]
  },
  {
   "cell_type": "code",
   "execution_count": 14,
   "metadata": {},
   "outputs": [
    {
     "name": "stdout",
     "output_type": "stream",
     "text": [
      "a\n",
      "b\n",
      "c\n"
     ]
    }
   ],
   "source": [
    "for itr in range(queue.lstInstance.getSize()):\n",
    "    print(queue.dequeue())"
   ]
  }
 ],
 "metadata": {
  "kernelspec": {
   "display_name": "Python 3",
   "language": "python",
   "name": "python3"
  },
  "language_info": {
   "codemirror_mode": {
    "name": "ipython",
    "version": 3
   },
   "file_extension": ".py",
   "mimetype": "text/x-python",
   "name": "python",
   "nbconvert_exporter": "python",
   "pygments_lexer": "ipython3",
   "version": "3.6.5"
  }
 },
 "nbformat": 4,
 "nbformat_minor": 2
}
