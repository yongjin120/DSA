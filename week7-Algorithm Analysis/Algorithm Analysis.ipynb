{
 "cells": [
  {
   "cell_type": "markdown",
   "metadata": {},
   "source": [
    "## Bubble sort algorithm\n",
    "\n",
    "> Bubble Sort(list)\n",
    " - For itr1=0 to length(list)\n",
    "   - For itr2=itr+1 to length(list)\n",
    "     - If list[itr1] < list[itr2]\n",
    "         - Swap list[itr1], list[itr2]<br/>\n",
    "         \n",
    ">itr1 = 0, itr2=1..9 = 9 iterations<br/>\n",
    ">itr1 = 1, itr2=2..9 = 8 iterations<br/>\n",
    ">itr1 = 8, itr2=9..9 = 1 iterations"
   ]
  },
  {
   "cell_type": "code",
   "execution_count": 8,
   "metadata": {},
   "outputs": [
    {
     "name": "stdout",
     "output_type": "stream",
     "text": [
      "[2, 6, 3, 9, 0, 7, 8, 1, 5, 4]\n"
     ]
    }
   ],
   "source": [
    "import random\n",
    "\n",
    "N=10\n",
    "lstNumbers = [n for n in range(N)]\n",
    "random.shuffle(lstNumbers)\n",
    "\n",
    "print(lstNumbers)"
   ]
  },
  {
   "cell_type": "code",
   "execution_count": 13,
   "metadata": {},
   "outputs": [],
   "source": [
    "def preformSelectionSort(lstNumbers):\n",
    "    for itr1 in range(N):\n",
    "        for itr2 in range(itr1+1, N):\n",
    "            if lstNumbers[itr1] < lstNumbers[itr2]:\n",
    "                lstNumbers[itr1], lstNumbers[itr2] = lstNumbers[itr2], lstNumbers[itr1]\n",
    "    return lstNumbers"
   ]
  },
  {
   "cell_type": "code",
   "execution_count": 14,
   "metadata": {},
   "outputs": [
    {
     "name": "stdout",
     "output_type": "stream",
     "text": [
      "[9, 8, 7, 6, 5, 4, 3, 2, 1, 0]\n"
     ]
    }
   ],
   "source": [
    "print(preformSelectionSort(lstNumbers))"
   ]
  },
  {
   "cell_type": "markdown",
   "metadata": {},
   "source": [
    "> Line 1 to 5\n",
    " - Line 1 : N iterations\n",
    " - Line 2, 3, 4 : N-i iterations (i is from 0 to N-1) X 3 lines\n",
    "   - 1 to N, 2 to N, ….., N-1 to N\n",
    "   - In other words, (³) iterations X 3 lines\n",
    "   - Assuming that “if” always results in true\n",
    " - Line 4: 1 iteration\n",
    " \n",
    "Total # of iterations = ´ iterations=O(N2)"
   ]
  },
  {
   "cell_type": "markdown",
   "metadata": {},
   "source": [
    "<br/>"
   ]
  },
  {
   "cell_type": "markdown",
   "metadata": {},
   "source": [
    "# Why do we care about efficiency?\n",
    "\n",
    "> Writing a working program is not good enough\n",
    " - The program could be inefficient\n",
    " - If the program runs on a large data, the running time becomes a big issue\n",
    " \n",
    "> we need a guarantee of the worst-case scenario\n",
    " - The worst-case running time of a single transaction\n",
    " - The worst-case transaction request numbers of a single day\n",
    " \n",
    "> best answer, asymptotically tight"
   ]
  },
  {
   "cell_type": "markdown",
   "metadata": {},
   "source": [
    "## Analyzing an algorithm\n",
    "> Estimating the resources that the algorithm requires\n",
    " - Memory\n",
    " - Communication bandwidth\n",
    " - Computational time (the most important resource in the most of cases)<br/>\n",
    "## Factors affecting the running time\n",
    "> Computer used for executions\n",
    " - Algorithms\n",
    " - Data structures\n",
    " - Input data size<br/>\n",
    "## After analyzing the algorithms\n",
    "> We estimate the worst-case of the costs by the factors\n",
    "   - i.e. Computational time by input data size\n",
    "   - i.e. Iterations by input data size"
   ]
  },
  {
   "cell_type": "markdown",
   "metadata": {},
   "source": [
    "![Alt text](./img/image1.jpg \"Optional title\")  "
   ]
  }
 ],
 "metadata": {
  "kernelspec": {
   "display_name": "Python 3",
   "language": "python",
   "name": "python3"
  },
  "language_info": {
   "codemirror_mode": {
    "name": "ipython",
    "version": 3
   },
   "file_extension": ".py",
   "mimetype": "text/x-python",
   "name": "python",
   "nbconvert_exporter": "python",
   "pygments_lexer": "ipython3",
   "version": "3.6.5"
  }
 },
 "nbformat": 4,
 "nbformat_minor": 2
}
