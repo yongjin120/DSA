{
 "cells": [
  {
   "cell_type": "markdown",
   "metadata": {},
   "source": [
    "# Detour: Assignment and Equivalence"
   ]
  },
  {
   "cell_type": "code",
   "execution_count": 6,
   "metadata": {},
   "outputs": [
    {
     "name": "stdout",
     "output_type": "stream",
     "text": [
      "x :  [1, 2, 3]\n",
      "y :  [100, [1, 2, 3], 120]\n",
      "z :  [[1, 2, 3], 'a', 'b']\n"
     ]
    }
   ],
   "source": [
    "x=[1,2,3]\n",
    "y=[100,x,120]\n",
    "z=[x, 'a','b']\n",
    "\n",
    "print('x : ', x)\n",
    "print('y : ', y)\n",
    "print('z : ', z)"
   ]
  },
  {
   "cell_type": "code",
   "execution_count": 8,
   "metadata": {},
   "outputs": [
    {
     "name": "stdout",
     "output_type": "stream",
     "text": [
      "x :  [1, 1717, 3]\n",
      "y :  [100, [1, 1717, 3], 120]\n",
      "z :  [[1, 1717, 3], 'a', 'b']\n"
     ]
    }
   ],
   "source": [
    "x[1]=1717\n",
    "\n",
    "print('x : ', x)\n",
    "print('y : ', y)\n",
    "print('z : ', z)"
   ]
  },
  {
   "cell_type": "code",
   "execution_count": 9,
   "metadata": {},
   "outputs": [
    {
     "name": "stdout",
     "output_type": "stream",
     "text": [
      "Values are equivalent\n"
     ]
    }
   ],
   "source": [
    "x[1]=2\n",
    "x2=[1,2,3]\n",
    "\n",
    "if x == x2:\n",
    "    print(\"Values are equivalent\")\n",
    "else:\n",
    "    print(\"Values are not equivalent\")"
   ]
  },
  {
   "cell_type": "code",
   "execution_count": 10,
   "metadata": {},
   "outputs": [
    {
     "name": "stdout",
     "output_type": "stream",
     "text": [
      "Values are stored at same place\n"
     ]
    }
   ],
   "source": [
    "\n",
    "if x[1] == y[1][1]:\n",
    "    print(\"Values are stored at same place\")\n",
    "else:\n",
    "    print(\"Values are not stored at same place\")"
   ]
  },
  {
   "cell_type": "markdown",
   "metadata": {},
   "source": [
    "# Basic Structure: Singly linked list\n",
    "\n",
    "        * A node consists of \n",
    "            - A variable to hold a reference to its next node\n",
    "            - A variable to hold a reference to ist value object\n",
    "        \n",
    "        * Special nodes: Head and Tail\n",
    "            - you can construct the single linked list without them\n",
    "            - But, using them makes search, insert and delete more convenient\n",
    "        \n",
    "        * Generaly, requires more coding than array\n",
    "\n",
    "#### Singly linked list\n",
    "![Alt text](./img/w3_Singly_linked_list.jpg \"Optional title\")  \n"
   ]
  },
  {
   "cell_type": "markdown",
   "metadata": {},
   "source": [
    "## Implementation of Node \n",
    "    \n",
    ">    * Member variables\n",
    "     - Variable to reference the next node\n",
    "     - Variable to hold a value object\n",
    "     - (Optional) Variable to check whether it is a head or not\n",
    "     - (Optional) Variable to check whether it is a tail or not   \n",
    ">    * Member function\n",
    "     - Various set/get methods\n",
    "    "
   ]
  },
  {
   "cell_type": "code",
   "execution_count": 49,
   "metadata": {},
   "outputs": [],
   "source": [
    "class Node:\n",
    "    nodeNext = ''\n",
    "    objValue = ''\n",
    "    binHead = False\n",
    "    binTail = False\n",
    "    \n",
    "    def __init__(self, objValue='', nodeNext='', binHead = False, binTail = False):\n",
    "        self.nodeNext = nodeNext\n",
    "        self.objValue = objValue\n",
    "        self.binHead = binHead\n",
    "        self.binTail = binTail\n",
    "        \n",
    "    def getValue(self):\n",
    "        return self.objValue\n",
    "\n",
    "    def getNext(self):\n",
    "        return self.nodeNext\n",
    "    \n",
    "    def setValue(self, objValue):\n",
    "        self.objValue = objValue\n",
    "    \n",
    "    def setNext(self, nodeNext):\n",
    "        self.nodeNext = nodeNext\n",
    "        \n",
    "    def isHead(self):\n",
    "        return self.binHead\n",
    "    \n",
    "    def isTail(self):\n",
    "        return self.binTail\n",
    "    \n",
    "    "
   ]
  },
  {
   "cell_type": "code",
   "execution_count": 15,
   "metadata": {},
   "outputs": [],
   "source": [
    "node1 = Node(objValue='a')\n",
    "nodeTail = Node(binTail=True)\n",
    "nodeHaed = Node(binHead=True)"
   ]
  },
  {
   "cell_type": "markdown",
   "metadata": {},
   "source": [
    "# Head and Tail\n",
    "\n",
    ">    * Specialized node\n",
    "      - Head : Always at the first of the list\n",
    "      - Tail : Always at the last of the list\n",
    "      - These are the two corner stone showing the start and the end of the list\n",
    ">    * These are optional nodes\n",
    "      - Linked list works okay without these\n",
    "      - However, having these makes implementation very convenient \n",
    "        \n",
    "![Alt text](./img/Empty Linked List.jpg)  \n"
   ]
  },
  {
   "cell_type": "markdown",
   "metadata": {},
   "source": [
    "# Search procedure in singly linked list\n",
    ">    * Again, let’s find ‘d’ and ‘c’ from the list\n",
    ">    * Just like an array, navigating from the first to the last until hit is the only way\n",
    ">    * No difference in the search pattern, though you cannot use index any further!\n",
    "        - Your list implementation may include the index function, but it is not required in the linked list\n",
    "\n",
    "![Alt text](./img/Search procedure.jpg)  "
   ]
  },
  {
   "cell_type": "markdown",
   "metadata": {},
   "source": [
    "# Insert procedure in singly linked list\n",
    ">  * This is the moment that you see the power of a linked list\n",
    ">  * Last time, you need N retrievals to insert a value in the array list\n",
    ">  * This time, you need only three operations\n",
    "- With an assumption that you have a reference to the node, Nodeprev that you want to put your new node next\n",
    "- First, you store a Node, or a Nodenext, pointed by a reference from Nodeprev’s nodeNext member variable\n",
    "- Second, you change a reference from Nodeprev’s nodeNext to Nodenew\n",
    "- Third, you change a reference from Nodenew’s nodeNext to Nodenext\n",
    "\n",
    "![Alt text](./img/insert procedure.jpg)  "
   ]
  },
  {
   "cell_type": "markdown",
   "metadata": {},
   "source": [
    "# Delete procedure in singly linked list\n",
    "\n",
    "> * This is the another moment that you see the power of a linked list\n",
    "> * Last time, you need N retrievals to delete a value in the array list\n",
    "> * This time, you need only three operations\n",
    " - With an assumption that you have a reference to the node, Nodeprev that you want to remove the node next\n",
    " - First, you retrieve Nodenext that is two steps next from Nodeprev\n",
    " - Second, you change a reference from Nodeprev’s nodeNext to Nodenext\n",
    "> * The node will be removed because there is no reference to Noderemove\n",
    "![Alt text](./img/delet procedure.jpg)  "
   ]
  },
  {
   "cell_type": "code",
   "execution_count": 1,
   "metadata": {},
   "outputs": [],
   "source": [
    "class Node:\n",
    "    nodeNext = ''\n",
    "    objValue = ''\n",
    "    binHead = False\n",
    "    binTail = False\n",
    "    \n",
    "    def __init__(self, objValue='', nodeNext='', \n",
    "                 binHead = False, binTail = False):\n",
    "        self.nodeNext = nodeNext\n",
    "        self.objValue = objValue\n",
    "        self.binHead = binHead\n",
    "        self.binTail = binTail\n",
    "        \n",
    "    def getValue(self):\n",
    "        return self.objValue\n",
    "\n",
    "    def getNext(self):\n",
    "        return self.nodeNext\n",
    "    \n",
    "    def setValue(self, objValue):\n",
    "        self.objValue = objValue\n",
    "    \n",
    "    def setNext(self, nodeNext):\n",
    "        self.nodeNext = nodeNext\n",
    "        \n",
    "    def isHead(self):\n",
    "        return self.binHead\n",
    "    \n",
    "    def isTail(self):\n",
    "        return self.binTail        "
   ]
  },
  {
   "cell_type": "code",
   "execution_count": 22,
   "metadata": {},
   "outputs": [],
   "source": [
    "\n",
    "class SinglyLinkedList:\n",
    "    nodeHead=''\n",
    "    nodeTail=''\n",
    "    SL_list=''\n",
    "    size = 0\n",
    "    def __init__(self):\n",
    "        self.nodeTail = Node(binTail=True)\n",
    "        self.nodeHead = Node(binHead=True, nodeNext=self.nodeTail)\n",
    "        \n",
    "        \n",
    "    def insertAt(self, objInsert, idxInsert):\n",
    "        if(self.size<idxInsert):\n",
    "            print('size over ')\n",
    "            raise NotImplementedError\n",
    "\n",
    "        else:            \n",
    "            nodeNew = Node(objValue = objInsert)\n",
    "            nodePrev = self.get(idxInsert - 1)\n",
    "            nodeNext = nodePrev.getNext()\n",
    "            nodePrev.setNext(nodeNew)\n",
    "            nodeNew.setNext(nodeNext)\n",
    "            self.size = self.size+1\n",
    "            print('insert : ', objInsert)\n",
    "            \n",
    "            \n",
    "            \n",
    "    def removeAt(self, idxRemove):\n",
    "        nodePrev = self.get(idxRemove - 1)\n",
    "        nodeRemove = nodePrev.getNext()\n",
    "        nodeNext = nodeRemove.getNext()\n",
    "        nodePrev.setNext(nodeNext)\n",
    "        self.size = self.size-1\n",
    "        return nodeRemove.getValue()\n",
    "    \n",
    "    def get(self, idxRetrieve):\n",
    "        nodeReturn = self.nodeHead\n",
    "        for itr in range(idxRetrieve+1):\n",
    "            nodeReturn = nodeReturn.getNext()\n",
    "        return nodeReturn\n",
    "    \n",
    "    def printStatus(self):\n",
    "        nodeCurrent = self.nodeHead\n",
    "        while(nodeCurrent.getNext().isTail()==False):\n",
    "            nodeCurrent =nodeCurrent.getNext()\n",
    "            \n",
    "            print(nodeCurrent.getValue())\n",
    "    \n",
    "    def getSize(self):\n",
    "        return self.size"
   ]
  },
  {
   "cell_type": "code",
   "execution_count": 35,
   "metadata": {},
   "outputs": [],
   "source": [
    "list1 = SinglyLinkedList()"
   ]
  },
  {
   "cell_type": "code",
   "execution_count": 42,
   "metadata": {
    "scrolled": true
   },
   "outputs": [
    {
     "name": "stdout",
     "output_type": "stream",
     "text": [
      "insert :  a\n",
      "insert :  b\n",
      "insert :  d\n",
      "insert :  e\n",
      "insert :  f\n"
     ]
    }
   ],
   "source": [
    "list1.insertAt('a',0)\n",
    "list1.insertAt('b',1)\n",
    "list1.insertAt('d',2)\n",
    "list1.insertAt('e',3)\n",
    "list1.insertAt('f',4)\n",
    "\n",
    "#list1.insertAt('error', 118)\n"
   ]
  },
  {
   "cell_type": "code",
   "execution_count": 43,
   "metadata": {
    "scrolled": true
   },
   "outputs": [
    {
     "name": "stdout",
     "output_type": "stream",
     "text": [
      "a\n",
      "b\n",
      "d\n",
      "e\n",
      "f\n",
      "a\n",
      "b\n",
      "d\n",
      "e\n",
      "f\n",
      "a\n",
      "b\n",
      "c\n",
      "e\n",
      "f\n"
     ]
    }
   ],
   "source": [
    "list1.printStatus()"
   ]
  },
  {
   "cell_type": "code",
   "execution_count": 44,
   "metadata": {},
   "outputs": [
    {
     "name": "stdout",
     "output_type": "stream",
     "text": [
      "insert :  c\n",
      "a\n",
      "b\n",
      "d\n",
      "c\n",
      "e\n",
      "f\n",
      "a\n",
      "b\n",
      "d\n",
      "e\n",
      "f\n",
      "a\n",
      "b\n",
      "c\n",
      "e\n",
      "f\n"
     ]
    }
   ],
   "source": [
    "list1.insertAt('c',3)\n",
    "list1.printStatus()"
   ]
  },
  {
   "cell_type": "code",
   "execution_count": 45,
   "metadata": {},
   "outputs": [
    {
     "name": "stdout",
     "output_type": "stream",
     "text": [
      "a\n",
      "b\n",
      "c\n",
      "e\n",
      "f\n",
      "a\n",
      "b\n",
      "d\n",
      "e\n",
      "f\n",
      "a\n",
      "b\n",
      "c\n",
      "e\n",
      "f\n"
     ]
    }
   ],
   "source": [
    "list1.removeAt(2)\n",
    "list1.printStatus()"
   ]
  }
 ],
 "metadata": {
  "kernelspec": {
   "display_name": "Python 3",
   "language": "python",
   "name": "python3"
  },
  "language_info": {
   "codemirror_mode": {
    "name": "ipython",
    "version": 3
   },
   "file_extension": ".py",
   "mimetype": "text/x-python",
   "name": "python",
   "nbconvert_exporter": "python",
   "pygments_lexer": "ipython3",
   "version": "3.6.5"
  }
 },
 "nbformat": 4,
 "nbformat_minor": 2
}
