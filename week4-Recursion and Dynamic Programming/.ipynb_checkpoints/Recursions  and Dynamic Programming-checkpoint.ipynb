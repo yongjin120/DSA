{
 "cells": [
  {
   "cell_type": "markdown",
   "metadata": {},
   "source": [
    "# Recursion\n",
    "> A programming method to handle the repeating items in a self-similar way\n",
    "* Often in a form of\n",
    " - Calling a function within the function\n"
   ]
  },
  {
   "cell_type": "code",
   "execution_count": 2,
   "metadata": {
    "scrolled": false
   },
   "outputs": [
    {
     "name": "stdout",
     "output_type": "stream",
     "text": [
      "0\n",
      "1\n",
      "1\n",
      "2\n",
      "3\n",
      "5\n",
      "8\n",
      "13\n",
      "21\n",
      "34\n"
     ]
    }
   ],
   "source": [
    "def Fibonacci(n):\n",
    "    if n==0:\n",
    "        return 0\n",
    "    if n==1:\n",
    "        return 1\n",
    "    intRet = Fibonacci(n-1) + Fibonacci(n-2)\n",
    "    return intRet\n",
    "\n",
    "for itr in range(0,10):\n",
    "    print(Fibonacci(itr))"
   ]
  },
  {
   "cell_type": "markdown",
   "metadata": {},
   "source": [
    "# Recursions and Stackframe\n",
    "\n",
    "> Recursion of functions\n",
    "- Increase the items in the stackframe\n",
    "  - Stackframe is a stack storing your function call history\n",
    "     - Push: When a function is invoked\n",
    "     - Pop: When a function hits return or ends\n",
    "\n",
    "![Alt text](./img/stackframe.jpg \"Optional title\")  "
   ]
  },
  {
   "cell_type": "markdown",
   "metadata": {},
   "source": [
    "> Problems in recursions\n",
    "  - Excessive function calls\n",
    "   - Calling functions again and again\n",
    "   - Even though the function is executed before with the same parameters\n",
    "  \n",
    "> For instance, Fibonacci(4)\n",
    " - Has two repeated calls of F(0)\n",
    " - Has three repeated calls of F(1)\n",
    " - Has two repeated calls of F(2)\n",
    " \n",
    "> These are unnecessarily taking time and space\n",
    "> How to solve this problem?"
   ]
  },
  {
   "cell_type": "code",
   "execution_count": null,
   "metadata": {},
   "outputs": [],
   "source": [
    "http://new93helloworld.tistory.com/220?category=691028"
   ]
  },
  {
   "cell_type": "code",
   "execution_count": null,
   "metadata": {},
   "outputs": [],
   "source": []
  },
  {
   "cell_type": "markdown",
   "metadata": {},
   "source": [
    "## Merge sort: One example of recursive programming\n",
    "### Decompose into two smaller lists<br/>Aggregate to one larger and sorted list\n",
    "수정필요"
   ]
  },
  {
   "cell_type": "code",
   "execution_count": 12,
   "metadata": {},
   "outputs": [],
   "source": [
    "import random\n",
    "\n",
    "def perfomMergeSort(lstElementToSort):\n",
    "    if len(lstElementToSort) == 1:\n",
    "        return lstElementToSort\n",
    "    \n",
    "    lstSubElementToSort1=[]\n",
    "    lstSubElementToSort2=[]\n",
    "    \n",
    "    # Decomposition\n",
    "    for itr in range(len(lstElementToSort)):\n",
    "        if len(lstElementToSort)/2 > itr:\n",
    "            lstSubElementToSort1.append(lstElementToSort[itr])\n",
    "        else:\n",
    "            lstSubElementToSort2.append(lstElementToSort[itr])\n",
    "    \n",
    "    # Recursion\n",
    "    lstSubElementToSort1 = prefomMergeSort(lstSubElementToSort1)\n",
    "    lstSubElementToSort2 = prefomMergeSort(lstSubElementToSort2)\n",
    "    \n",
    "    # Aggregation\n",
    "    idxCount1 = 0\n",
    "    idxCount2 = 0\n",
    "    for itr in range(len(lstElementToSort)):\n",
    "        if idxCount1 == len(lstSubElementToSort1):\n",
    "            lstElementToSort[itr]=lstSubElementToSort2[idxCount2]\n",
    "            idxCount2 = idxCount2+1\n",
    "        elif idxCount2 == len(lstSubElementToSort2):\n",
    "            lstElementToSort[itr] = lstSubElementToSort1[idxCount1]\n",
    "            idxCount1 = idxCount1+1\n",
    "            \n",
    "        elif lstSubElementToSort1[idxCount1]> lstSubElementToSort2[idxCount2]:\n",
    "            lstElementToSort[itr] = lstSubElementToSort2[idxCount2]\n",
    "            idxCount2 = idxCount2+1\n",
    "        else:\n",
    "            lstElementToSort[itr] = lstSubElementToSort1[idxCount1]\n",
    "            idxCount1 = idxCount1+1\n",
    "    return lstElementToSort"
   ]
  },
  {
   "cell_type": "code",
   "execution_count": 13,
   "metadata": {},
   "outputs": [
    {
     "name": "stdout",
     "output_type": "stream",
     "text": [
      "[69, 5, 66, 77, 31, 3, 11, 61, 21, 83]\n",
      "[3, 11, 3, 61, 69, 69, 69, 77, 31, 83]\n"
     ]
    }
   ],
   "source": [
    "lstRandom = []\n",
    "\n",
    "for itr in range(10):\n",
    "    lstRandom.append(random.randrange(0,100))\n",
    "print(lstRandom)\n",
    "SortlstRandom = perfomMergeSort(lstRandom)\n",
    "print(SortlstRandom)"
   ]
  },
  {
   "cell_type": "markdown",
   "metadata": {},
   "source": [
    "##  Problems in recursions\n",
    " - Excessive function calls\n",
    "    - Calling functions again and again\n",
    "    - Even though the function is executed before with the same parameters"
   ]
  },
  {
   "cell_type": "markdown",
   "metadata": {},
   "source": [
    "## Memoization\n",
    "> * Key technique of dynamic programming\n",
    "    - Simply put\n",
    "        - Storing the results of previous function calls to reuse the results again in the future\n",
    "    - More philosophical sense\n",
    "    - Bottom-up approach for problem-solving\n",
    "        - Recursion: Top-down of divide and conquer\n",
    "        - Dynamic programming: Bottom-up of storing and building\n",
    "        \n",
    "\n",
    "![Alt text](./img/recursion_dynamic.png \"Optional title\")  "
   ]
  },
  {
   "cell_type": "markdown",
   "metadata": {},
   "source": [
    "### Implementation Example: Fibonacci Sequence in DP"
   ]
  },
  {
   "cell_type": "code",
   "execution_count": 14,
   "metadata": {},
   "outputs": [],
   "source": [
    "def FibonacciDP(n):\n",
    "    # Settiong a memoization table\n",
    "    dicFibonacci = {}\n",
    "    dicFibonacci[0] = 0\n",
    "    dicFibonacci[1] = 1\n",
    "    \n",
    "    for itr in range(2, n+1):\n",
    "        dicFibonacci[itr] = dicFibonacci[itr-1] + dicFibonacci[itr-2]\n",
    "    return dicFibonacci[n]"
   ]
  },
  {
   "cell_type": "code",
   "execution_count": 17,
   "metadata": {},
   "outputs": [
    {
     "name": "stdout",
     "output_type": "stream",
     "text": [
      "0\n",
      "1\n",
      "1\n",
      "2\n",
      "3\n",
      "5\n",
      "8\n",
      "13\n",
      "21\n",
      "34\n"
     ]
    }
   ],
   "source": [
    "# Execution Part\n",
    "for itr in range(0,10):\n",
    "    print (FibonacciDP(itr))"
   ]
  },
  {
   "cell_type": "markdown",
   "metadata": {},
   "source": [
    "참조 : http://new93helloworld.tistory.com/220?category=691028"
   ]
  }
 ],
 "metadata": {
  "kernelspec": {
   "display_name": "Python 3",
   "language": "python",
   "name": "python3"
  },
  "language_info": {
   "codemirror_mode": {
    "name": "ipython",
    "version": 3
   },
   "file_extension": ".py",
   "mimetype": "text/x-python",
   "name": "python",
   "nbconvert_exporter": "python",
   "pygments_lexer": "ipython3",
   "version": "3.6.5"
  }
 },
 "nbformat": 4,
 "nbformat_minor": 2
}
