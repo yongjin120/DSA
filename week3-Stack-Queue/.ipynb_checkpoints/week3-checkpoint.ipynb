{
 "cells": [
  {
   "cell_type": "code",
   "execution_count": 17,
   "metadata": {},
   "outputs": [],
   "source": [
    "import numpy as np\n",
    "import PlanNode"
   ]
  },
  {
   "cell_type": "code",
   "execution_count": 18,
   "metadata": {},
   "outputs": [
    {
     "ename": "TypeError",
     "evalue": "'module' object is not callable",
     "output_type": "error",
     "traceback": [
      "\u001b[1;31m---------------------------------------------------------------------------\u001b[0m",
      "\u001b[1;31mTypeError\u001b[0m                                 Traceback (most recent call last)",
      "\u001b[1;32m<ipython-input-18-4e0a26b71fe8>\u001b[0m in \u001b[0;36m<module>\u001b[1;34m()\u001b[0m\n\u001b[0;32m     21\u001b[0m                     \u001b[0mnumModelNumbers\u001b[0m\u001b[1;33m[\u001b[0m\u001b[0mi\u001b[0m\u001b[1;33m]\u001b[0m\u001b[1;33m,\u001b[0m \u001b[0mdateStart\u001b[0m\u001b[1;33m[\u001b[0m\u001b[0mi\u001b[0m\u001b[1;33m]\u001b[0m\u001b[1;33m,\u001b[0m\u001b[1;33m\u001b[0m\u001b[0m\n\u001b[0;32m     22\u001b[0m                     \u001b[0mnumAssemblyOrders\u001b[0m\u001b[1;33m[\u001b[0m\u001b[0mi\u001b[0m\u001b[1;33m]\u001b[0m\u001b[1;33m,\u001b[0m \u001b[0mdateEnd\u001b[0m\u001b[1;33m[\u001b[0m\u001b[0mi\u001b[0m\u001b[1;33m]\u001b[0m\u001b[1;33m,\u001b[0m\u001b[1;33m\u001b[0m\u001b[0m\n\u001b[1;32m---> 23\u001b[1;33m                     strOrderOrigins[i])\n\u001b[0m",
      "\u001b[1;31mTypeError\u001b[0m: 'module' object is not callable"
     ]
    }
   ],
   "source": [
    "f = open('Plan-2012.12.17.csv')\n",
    "temp = f.readlines()\n",
    "f.close()\n",
    "\n",
    "dataset = []\n",
    "for row in temp:\n",
    "    dataset.append(row[:-1].split(','))\n",
    "Dataset = np.asarray(dataset[1:]).T\n",
    "Dataset\n",
    "numNos = Dataset[0].astype('int')\n",
    "strSerialNumbers = Dataset[1].astype('str')\n",
    "strModels = Dataset[2].astype('str')\n",
    "numModelNumbers = Dataset[3].astype('int')\n",
    "dateStart = Dataset[4].astype('str')\n",
    "numAssemblyOrders = Dataset[5].astype('int')\n",
    "dateEnd = Dataset[6].astype('str')\n",
    "strOrderOrigins = Dataset[7].astype('str')\n",
    "\n",
    "for i in range(len(numNos)):\n",
    "    node = PlanNode(numNos[i], strSerialNumbers[i], strModels[i], \n",
    "                    numModelNumbers[i], dateStart[i],\n",
    "                    numAssemblyOrders[i], dateEnd[i], \n",
    "                    strOrderOrigins[i])"
   ]
  }
 ],
 "metadata": {
  "kernelspec": {
   "display_name": "Python 3",
   "language": "python",
   "name": "python3"
  },
  "language_info": {
   "codemirror_mode": {
    "name": "ipython",
    "version": 3
   },
   "file_extension": ".py",
   "mimetype": "text/x-python",
   "name": "python",
   "nbconvert_exporter": "python",
   "pygments_lexer": "ipython3",
   "version": "3.6.5"
  }
 },
 "nbformat": 4,
 "nbformat_minor": 2
}
