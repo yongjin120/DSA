{
 "cells": [
  {
   "cell_type": "markdown",
   "metadata": {},
   "source": [
    "# Implementation of tree node\n",
    "\n",
    "> Has three references\n",
    "    - Left hand side (LHS)\n",
    "    - Right hand side (RHS)\n",
    "    - Its own value\n",
    "    - Its parent node\n",
    "\n",
    "![](./img/tree_node.png)  "
   ]
  },
  {
   "cell_type": "code",
   "execution_count": null,
   "metadata": {},
   "outputs": [],
   "source": [
    "class TreeNode:\n",
    "    #Four references\n",
    "    nodeLHS = ''\n",
    "    nodeRHS = ''\n",
    "    nodeParent = ''\n",
    "    value = ''\n",
    "    \n",
    "    def __init__(self, value, nodeParent):\n",
    "        self.value = value\n",
    "        self.nodeParent = nodeParent\n",
    "        \n",
    "    def getLHS(self):\n",
    "        return self.nodeLHS\n",
    "    \n",
    "    def getRHS(self):\n",
    "        return self.nodeRHS\n",
    "    \n",
    "    def getValue(self):\n",
    "        return self.value\n",
    "    \n",
    "    def getParent(self):\n",
    "        return self.nodeParent\n",
    "    \n",
    "    def setLHS(self, LHS):\n",
    "        self.nodeLHS = LHS\n",
    "    \n",
    "    def setRHS(self, RHS):\n",
    "        self.nodeRHS= RHS\n",
    "    \n",
    "    def setValue(self):\n",
    "        self.value=value\n",
    "    \n",
    "    def setParent(self, nodeParent):\n",
    "        self.nodeParent=nodeParent"
   ]
  },
  {
   "cell_type": "markdown",
   "metadata": {},
   "source": [
    "# Implementation of BST\n",
    "\n",
    "> - BST handles the data stored through its root\n",
    " - Root has its own value\n",
    " - Tree instance access to the root\n",
    " - Only through the root, the tree instances access to the descendant nodes of the root\n",
    " \n",
    "![](./img/tree_ex1.png)  "
   ]
  }
 ],
 "metadata": {
  "kernelspec": {
   "display_name": "Python 3",
   "language": "python",
   "name": "python3"
  },
  "language_info": {
   "codemirror_mode": {
    "name": "ipython",
    "version": 3
   },
   "file_extension": ".py",
   "mimetype": "text/x-python",
   "name": "python",
   "nbconvert_exporter": "python",
   "pygments_lexer": "ipython3",
   "version": "3.6.5"
  }
 },
 "nbformat": 4,
 "nbformat_minor": 2
}
